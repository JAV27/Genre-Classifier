{
 "metadata": {
  "language_info": {
   "codemirror_mode": {
    "name": "ipython",
    "version": 3
   },
   "file_extension": ".py",
   "mimetype": "text/x-python",
   "name": "python",
   "nbconvert_exporter": "python",
   "pygments_lexer": "ipython3",
   "version": "3.6.9-final"
  },
  "orig_nbformat": 2,
  "kernelspec": {
   "name": "python3",
   "display_name": "Python 3"
  }
 },
 "nbformat": 4,
 "nbformat_minor": 2,
 "cells": [
  {
   "cell_type": "code",
   "execution_count": 1,
   "metadata": {},
   "outputs": [],
   "source": [
    "import pandas as pd\n",
    "from sklearn.feature_extraction.text import CountVectorizer\n",
    "from sklearn.preprocessing import LabelEncoder\n",
    "from sklearn.model_selection import train_test_split\n",
    "from keras.utils import to_categorical\n",
    "from keras.preprocessing.text import Tokenizer\n",
    "from keras.preprocessing.sequence import pad_sequences\n",
    "import numpy as np\n",
    "import tensorflow as tf\n",
    "\n",
    "from keras import Model\n",
    "from keras.layers import Input, LSTM, Dense\n",
    "\n"
   ]
  },
  {
   "cell_type": "code",
   "execution_count": 11,
   "metadata": {},
   "outputs": [],
   "source": [
    "seq_length = 100\n",
    "step = seq_length\n",
    "# maxlen = 1000\n",
    "\n",
    "df = pd.read_csv(\"data.csv\", index_col=\"index\")\n",
    "df = df.reindex(np.random.permutation(df.index))[:1000]\n",
    "df.columns = [\"label\", \"text\"]\n",
    "labels = df[\"label\"].to_numpy()\n",
    "texts = df[\"text\"].to_numpy()"
   ]
  },
  {
   "cell_type": "code",
   "execution_count": 12,
   "metadata": {},
   "outputs": [
    {
     "output_type": "stream",
     "name": "stdout",
     "text": [
      "(8734, 100, 104)\n(8734, 3)\n"
     ]
    }
   ],
   "source": [
    "tokenizer = Tokenizer(char_level=True)\n",
    "tokenizer.fit_on_texts(texts)\n",
    "sequences = np.array(tokenizer.texts_to_sequences(texts))\n",
    "# x = pad_sequences(x, maxlen=maxlen, padding=\"post\")\n",
    "\n",
    "label_encoder = LabelEncoder()\n",
    "label_encoder.fit([\"Rock\", \"Pop\", \"Hip Hop\"])\n",
    "encoded_labels = label_encoder.transform(labels)\n",
    "\n",
    "x = []\n",
    "y = []\n",
    "for label_ind, sequence in enumerate(sequences):\n",
    "    for i in range(0, len(sequence) - seq_length, step):\n",
    "        x.append(sequence[i: i+seq_length])\n",
    "        y.append(encoded_labels[label_ind])\n",
    "\n",
    "x = to_categorical(x)\n",
    "y = to_categorical(y)\n",
    "\n",
    "train_x, test_x, train_y, test_y = train_test_split(x, y, test_size=0.4, random_state=42)\n",
    "\n",
    "print(train_x.shape)\n",
    "print(train_y.shape)\n"
   ]
  },
  {
   "cell_type": "code",
   "execution_count": 17,
   "metadata": {
    "tags": []
   },
   "outputs": [
    {
     "output_type": "stream",
     "name": "stdout",
     "text": [
      "Model: \"functional_9\"\n_________________________________________________________________\nLayer (type)                 Output Shape              Param #   \n=================================================================\ninput_6 (InputLayer)         [(None, 100, 104)]        0         \n_________________________________________________________________\nlstm_4 (LSTM)                (None, 100, 64)           43264     \n_________________________________________________________________\nlstm_5 (LSTM)                (None, 100, 64)           33024     \n_________________________________________________________________\nlstm_6 (LSTM)                (None, 64)                33024     \n_________________________________________________________________\ndense_4 (Dense)              (None, 3)                 195       \n=================================================================\nTotal params: 109,507\nTrainable params: 109,507\nNon-trainable params: 0\n_________________________________________________________________\n"
     ]
    }
   ],
   "source": [
    "n_lstm_layers = 3\n",
    "\n",
    "input_layer = Input(x[0].shape)\n",
    "z = input_layer\n",
    "for i in range(n_lstm_layers):\n",
    "    z = LSTM(64, return_sequences=i != n_lstm_layers-1)(z)\n",
    "out = Dense(3, activation=\"softmax\")(z)\n",
    "model = Model(inputs=[input_layer], outputs=[out])\n",
    "model.compile(loss=\"categorical_crossentropy\", metrics=[\"accuracy\"])\n",
    "model.summary()\n",
    "    "
   ]
  },
  {
   "cell_type": "code",
   "execution_count": 18,
   "metadata": {},
   "outputs": [
    {
     "output_type": "stream",
     "name": "stdout",
     "text": [
      "Epoch 1/10\n",
      "273/273 [==============================] - 6s 22ms/step - loss: 1.0898 - accuracy: 0.3804 - val_loss: 0.0000e+00 - val_accuracy: 0.0000e+00\n",
      "Epoch 2/10\n",
      "273/273 [==============================] - 5s 19ms/step - loss: 1.0606 - accuracy: 0.4414 - val_loss: 0.0000e+00 - val_accuracy: 0.0000e+00\n",
      "Epoch 3/10\n",
      "273/273 [==============================] - 5s 19ms/step - loss: 1.0482 - accuracy: 0.4481 - val_loss: 0.0000e+00 - val_accuracy: 0.0000e+00\n",
      "Epoch 4/10\n",
      "273/273 [==============================] - 5s 19ms/step - loss: 1.0426 - accuracy: 0.4515 - val_loss: 0.0000e+00 - val_accuracy: 0.0000e+00\n",
      "Epoch 5/10\n",
      "273/273 [==============================] - 5s 20ms/step - loss: 1.0385 - accuracy: 0.4637 - val_loss: 0.0000e+00 - val_accuracy: 0.0000e+00\n",
      "Epoch 6/10\n",
      "273/273 [==============================] - 6s 21ms/step - loss: 1.0338 - accuracy: 0.4557 - val_loss: 0.0000e+00 - val_accuracy: 0.0000e+00\n",
      "Epoch 7/10\n",
      "273/273 [==============================] - 5s 20ms/step - loss: 1.0287 - accuracy: 0.4612 - val_loss: 0.0000e+00 - val_accuracy: 0.0000e+00\n",
      "Epoch 8/10\n",
      "273/273 [==============================] - 5s 20ms/step - loss: 1.0251 - accuracy: 0.4730 - val_loss: 0.0000e+00 - val_accuracy: 0.0000e+00\n",
      "Epoch 9/10\n",
      "273/273 [==============================] - 6s 21ms/step - loss: 1.0256 - accuracy: 0.4684 - val_loss: 0.0000e+00 - val_accuracy: 0.0000e+00\n",
      "Epoch 10/10\n",
      "273/273 [==============================] - 5s 19ms/step - loss: 1.0495 - accuracy: 0.4310 - val_loss: 0.0000e+00 - val_accuracy: 0.0000e+00\n"
     ]
    },
    {
     "output_type": "execute_result",
     "data": {
      "text/plain": [
       "<tensorflow.python.keras.callbacks.History at 0x7fada842c780>"
      ]
     },
     "metadata": {},
     "execution_count": 18
    }
   ],
   "source": [
    "model.fit(train_x, train_y, validation_data=(test_x, test_y), epochs=10)"
   ]
  },
  {
   "cell_type": "code",
   "execution_count": null,
   "metadata": {},
   "outputs": [],
   "source": []
  },
  {
   "cell_type": "code",
   "execution_count": null,
   "metadata": {},
   "outputs": [],
   "source": []
  }
 ]
}