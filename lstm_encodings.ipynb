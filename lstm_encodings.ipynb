{
 "metadata": {
  "language_info": {
   "codemirror_mode": {
    "name": "ipython",
    "version": 3
   },
   "file_extension": ".py",
   "mimetype": "text/x-python",
   "name": "python",
   "nbconvert_exporter": "python",
   "pygments_lexer": "ipython3",
   "version": "3.6.9-final"
  },
  "orig_nbformat": 2,
  "kernelspec": {
   "name": "python3",
   "display_name": "Python 3"
  }
 },
 "nbformat": 4,
 "nbformat_minor": 2,
 "cells": [
  {
   "cell_type": "code",
   "execution_count": 1,
   "metadata": {},
   "outputs": [],
   "source": [
    "import pandas as pd\n",
    "from sklearn.feature_extraction.text import CountVectorizer\n",
    "from sklearn.preprocessing import LabelEncoder\n",
    "from sklearn.model_selection import train_test_split\n",
    "from keras.utils import to_categorical\n",
    "from keras.preprocessing.text import Tokenizer\n",
    "from keras.preprocessing.sequence import pad_sequences\n",
    "import numpy as np\n",
    "import tensorflow as tf\n",
    "\n",
    "from gensim.models import KeyedVectors\n",
    "\n",
    "from keras import Model\n",
    "from keras.layers import Input, LSTM, Dense, Embedding\n",
    "\n"
   ]
  },
  {
   "cell_type": "code",
   "execution_count": 2,
   "metadata": {},
   "outputs": [],
   "source": [
    "seq_length = 250\n",
    "step = seq_length\n",
    "num_words = 10000\n",
    "# maxlen = 1000\n",
    "\n",
    "df = pd.read_csv(\"data.csv\", index_col=\"index\")\n",
    "df = df.reindex(np.random.permutation(df.index))\n",
    "df.columns = [\"label\", \"text\"]\n",
    "labels = df[\"label\"].to_numpy()\n",
    "texts = df[\"text\"].to_numpy()"
   ]
  },
  {
   "cell_type": "code",
   "execution_count": 3,
   "metadata": {},
   "outputs": [
    {
     "output_type": "stream",
     "name": "stdout",
     "text": [
      "(59717, 250)\n(59717, 3)\n"
     ]
    }
   ],
   "source": [
    "tokenizer = Tokenizer(num_words=num_words)\n",
    "tokenizer.fit_on_texts(texts)\n",
    "sequences = np.array(tokenizer.texts_to_sequences(texts))\n",
    "# x = pad_sequences(x, maxlen=maxlen, padding=\"post\")\n",
    "\n",
    "label_encoder = LabelEncoder()\n",
    "label_encoder.fit([\"Rock\", \"Pop\", \"Hip Hop\"])\n",
    "encoded_labels = label_encoder.transform(labels)\n",
    "\n",
    "x = []\n",
    "y = []\n",
    "for label_ind, sequence in enumerate(sequences):\n",
    "    for i in range(0, len(sequence) - seq_length, step):\n",
    "        x.append(sequence[i: i+seq_length])\n",
    "        y.append(encoded_labels[label_ind])\n",
    "\n",
    "# x = to_categorical(x)\n",
    "x = np.array(x)\n",
    "y = to_categorical(y)\n",
    "\n",
    "train_x, test_x, train_y, test_y = train_test_split(x, y, test_size=0.2, random_state=42)\n",
    "\n",
    "print(train_x.shape)\n",
    "print(train_y.shape)\n"
   ]
  },
  {
   "cell_type": "code",
   "execution_count": 4,
   "metadata": {
    "tags": []
   },
   "outputs": [
    {
     "output_type": "stream",
     "name": "stdout",
     "text": [
      "Model: \"functional_1\"\n_________________________________________________________________\nLayer (type)                 Output Shape              Param #   \n=================================================================\ninput_1 (InputLayer)         [(None, 250)]             0         \n_________________________________________________________________\nembedding (Embedding)        (None, 250, 300)          3000000   \n_________________________________________________________________\ncu_dnnlstm (CuDNNLSTM)       (None, 250, 128)          220160    \n_________________________________________________________________\ncu_dnnlstm_1 (CuDNNLSTM)     (None, 250, 128)          132096    \n_________________________________________________________________\ncu_dnnlstm_2 (CuDNNLSTM)     (None, 250, 128)          132096    \n_________________________________________________________________\ncu_dnnlstm_3 (CuDNNLSTM)     (None, 250, 128)          132096    \n_________________________________________________________________\ncu_dnnlstm_4 (CuDNNLSTM)     (None, 250, 128)          132096    \n_________________________________________________________________\ncu_dnnlstm_5 (CuDNNLSTM)     (None, 128)               132096    \n_________________________________________________________________\ndense (Dense)                (None, 3)                 387       \n=================================================================\nTotal params: 3,881,027\nTrainable params: 3,881,027\nNon-trainable params: 0\n_________________________________________________________________\n"
     ]
    }
   ],
   "source": [
    "n_lstm_layers = 6\n",
    "\n",
    "input_layer = Input(x[0].shape)\n",
    "z = input_layer\n",
    "z = Embedding(num_words, 300)(z)\n",
    "for i in range(n_lstm_layers):\n",
    "    z = LSTM(128, return_sequences=i != n_lstm_layers-1)(z)\n",
    "out = Dense(3, activation=\"softmax\")(z)\n",
    "model = Model(inputs=[input_layer], outputs=[out])\n",
    "model.compile(loss=\"categorical_crossentropy\", metrics=[\"accuracy\"])\n",
    "model.summary()"
   ]
  },
  {
   "cell_type": "code",
   "execution_count": 5,
   "metadata": {},
   "outputs": [
    {
     "output_type": "stream",
     "name": "stdout",
     "text": [
      "Epoch 1/10\n",
      "1867/1867 [==============================] - 213s 114ms/step - loss: 0.9493 - accuracy: 0.5285 - val_loss: 0.9187 - val_accuracy: 0.5633\n",
      "Epoch 2/10\n",
      "1867/1867 [==============================] - 219s 118ms/step - loss: 0.8248 - accuracy: 0.5936 - val_loss: 0.8003 - val_accuracy: 0.6062\n",
      "Epoch 3/10\n",
      "1867/1867 [==============================] - 206s 111ms/step - loss: 0.7712 - accuracy: 0.6342 - val_loss: 0.8003 - val_accuracy: 0.6223\n",
      "Epoch 4/10\n",
      "1867/1867 [==============================] - 219s 117ms/step - loss: 0.7441 - accuracy: 0.6535 - val_loss: 0.7687 - val_accuracy: 0.6216\n",
      "Epoch 5/10\n",
      " 784/1867 [===========>..................] - ETA: 2:06 - loss: 0.7158 - accuracy: 0.6728"
     ]
    }
   ],
   "source": [
    "model.fit(train_x, train_y, batch_size=32, validation_data=(test_x, test_y), epochs=10)"
   ]
  },
  {
   "cell_type": "code",
   "execution_count": null,
   "metadata": {},
   "outputs": [],
   "source": []
  }
 ]
}